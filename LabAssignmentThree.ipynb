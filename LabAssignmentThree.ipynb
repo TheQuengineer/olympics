{
 "cells": [
  {
   "cell_type": "markdown",
   "metadata": {},
   "source": [
    "## Lab Assignment 3\n",
    "### Data Mining 7331 Section 403\n",
    "---\n",
    "- Brian Coari\n",
    "- Stephen Merritt\n",
    "- Cory Thigpen\n",
    "- Quentin Thomas"
   ]
  },
  {
   "cell_type": "markdown",
   "metadata": {},
   "source": [
    "## Business Understanding \n",
    "---\n",
    "- Describe the purpose of the data set you selected (i.e., why was this data collected in the first place?). How will you measure the effectiveness of a good algorithm? Why does your chosen validation method make sense for this specific dataset and the stakeholders needs? (10 points)"
   ]
  },
  {
   "cell_type": "markdown",
   "metadata": {},
   "source": [
    "## Data Understanding \n",
    "---\n",
    "- Describe the meaning and type of data (scale, values, etc.) for each attribute in the data file. Verify data quality: Are there missing values? Duplicate data? Outliers? Are those mistakes? How do you deal with these problems? (10 pts)\n",
    "- Visualize the any important attributes appropriately. Important: Provide an interpretation for any charts or graphs. (10 pts)"
   ]
  },
  {
   "cell_type": "code",
   "execution_count": 3,
   "metadata": {},
   "outputs": [
    {
     "name": "stdout",
     "output_type": "stream",
     "text": [
      "<class 'pandas.core.frame.DataFrame'>\n",
      "Int64Index: 35807 entries, 17 to 266821\n",
      "Data columns (total 11 columns):\n",
      "Country            35807 non-null object\n",
      "Sex                35807 non-null int64\n",
      "Age                35807 non-null int64\n",
      "Height             35807 non-null int64\n",
      "Weight             35807 non-null int64\n",
      "Year               35807 non-null int64\n",
      "Season             35807 non-null int64\n",
      "BMI                35807 non-null float64\n",
      "Population_Prop    35807 non-null float64\n",
      "Medal              35807 non-null int64\n",
      "Previous_Medals    35807 non-null int64\n",
      "dtypes: float64(2), int64(8), object(1)\n",
      "memory usage: 3.3+ MB\n",
      "None\n"
     ]
    }
   ],
   "source": [
    "import numpy as np\n",
    "import pandas as pd\n",
    "#Create X and y vectors for sklearn pre-processing steps\n",
    "df = pd.read_csv('data/pop_merge.csv')\n",
    "\n",
    "#Remove years before 2010 to limit to good, relevant data\n",
    "df = df.loc[df['Year'] >= 2010]\n",
    "\n",
    "y=df['Sport']\n",
    "X=df.drop(['Sport', 'Unnamed: 0','Event'], axis = 1)\n",
    "\n",
    "print(X.info())"
   ]
  },
  {
   "cell_type": "code",
   "execution_count": 4,
   "metadata": {},
   "outputs": [
    {
     "name": "stdout",
     "output_type": "stream",
     "text": [
      "                Age        Height        Weight          Year           BMI  \\\n",
      "count  35807.000000  35807.000000  35807.000000  35807.000000  35807.000000   \n",
      "mean      26.081688    175.810233     70.931633   2013.550423     22.737934   \n",
      "std        5.448576     10.832348     15.057773      2.174165      3.058872   \n",
      "min       13.000000    133.000000     30.000000   2010.000000     10.503834   \n",
      "25%       22.000000    168.000000     60.000000   2012.000000     20.761246   \n",
      "50%       25.000000    175.000000     69.000000   2014.000000     22.395413   \n",
      "75%       29.000000    183.000000     80.000000   2016.000000     24.221453   \n",
      "max       71.000000    221.000000    214.000000   2016.000000     63.901580   \n",
      "\n",
      "       Population_Prop         Medal  Previous_Medals  Country_Afghanistan  \\\n",
      "count     35807.000000  35807.000000     35807.000000         35807.000000   \n",
      "mean          0.015858      0.141704         0.097048             0.000251   \n",
      "std           0.034539      0.348751         0.296027             0.015852   \n",
      "min           0.000001      0.000000         0.000000             0.000000   \n",
      "25%           0.001356      0.000000         0.000000             0.000000   \n",
      "50%           0.005258      0.000000         0.000000             0.000000   \n",
      "75%           0.011266      0.000000         0.000000             0.000000   \n",
      "max           0.181422      1.000000         1.000000             1.000000   \n",
      "\n",
      "       Country_Albania      ...       Country_Vietnam  \\\n",
      "count     35807.000000      ...          35807.000000   \n",
      "mean          0.000559      ...              0.001452   \n",
      "std           0.023627      ...              0.038081   \n",
      "min           0.000000      ...              0.000000   \n",
      "25%           0.000000      ...              0.000000   \n",
      "50%           0.000000      ...              0.000000   \n",
      "75%           0.000000      ...              0.000000   \n",
      "max           1.000000      ...              1.000000   \n",
      "\n",
      "       Country_Virgin Islands, British  Country_Virgin Islands, US  \\\n",
      "count                     35807.000000                35807.000000   \n",
      "mean                          0.000195                    0.000503   \n",
      "std                           0.013981                    0.022416   \n",
      "min                           0.000000                    0.000000   \n",
      "25%                           0.000000                    0.000000   \n",
      "50%                           0.000000                    0.000000   \n",
      "75%                           0.000000                    0.000000   \n",
      "max                           1.000000                    1.000000   \n",
      "\n",
      "       Country_Yemen  Country_Zambia  Country_Zimbabwe      Season_0  \\\n",
      "count   35807.000000    35807.000000      35807.000000  35807.000000   \n",
      "mean        0.000195        0.000391          0.001173      0.259502   \n",
      "std         0.013981        0.019770          0.034229      0.438368   \n",
      "min         0.000000        0.000000          0.000000      0.000000   \n",
      "25%         0.000000        0.000000          0.000000      0.000000   \n",
      "50%         0.000000        0.000000          0.000000      0.000000   \n",
      "75%         0.000000        0.000000          0.000000      1.000000   \n",
      "max         1.000000        1.000000          1.000000      1.000000   \n",
      "\n",
      "           Season_1         Sex_0         Sex_1  \n",
      "count  35807.000000  35807.000000  35807.000000  \n",
      "mean       0.740498      0.442846      0.557154  \n",
      "std        0.438368      0.496730      0.496730  \n",
      "min        0.000000      0.000000      0.000000  \n",
      "25%        0.000000      0.000000      0.000000  \n",
      "50%        1.000000      0.000000      1.000000  \n",
      "75%        1.000000      1.000000      1.000000  \n",
      "max        1.000000      1.000000      1.000000  \n",
      "\n",
      "[8 rows x 216 columns]\n",
      "count         35807\n",
      "unique           49\n",
      "top       Athletics\n",
      "freq           4774\n",
      "Name: Sport, dtype: object\n"
     ]
    }
   ],
   "source": [
    "X = pd.get_dummies(X, columns = ['Country', 'Season','Sex'])\n",
    "print(X.describe())\n",
    "print(y.describe())"
   ]
  },
  {
   "cell_type": "markdown",
   "metadata": {},
   "source": [
    "## Modeling and Evaluation\n",
    "---\n",
    "Different tasks will require different evaluation methods. Be as thorough as possible when analyzing the data you have chosen and use visualizations of the results to explain the performance and expected outcomes whenever possible. Guide the reader through your analysis with plenty of discussion of the results. Each option is broken down by:\n",
    "- Train and adjust parameters (10 pts)\n",
    "- Evaluate and Compare (10 pts)\n",
    "- Visualize Results (10 pts)\n",
    "- Summarize the Ramifications (20 pts)\n",
    "\n",
    "Cluster Analysis\n",
    "- Train: Perform cluster analysis using several clustering methods (adjust parameters).\n",
    "- Eval: Use internal and/or external validation measures to describe and compare the clusterings and the clusters— how did you determine a suitable number of clusters for each method?\n",
    "- Visualize: Use tables/visualization to discuss the found results. Explain each visualization in detail.\n",
    "- Summarize: Describe your results. What findings are the most interesting and why?"
   ]
  },
  {
   "cell_type": "markdown",
   "metadata": {},
   "source": [
    "## Deployment \n",
    "---\n",
    "- Be critical of your performance and tell the reader how you current model might be usable by other parties. Did you achieve your goals? If not, can you reign in the utility of your modeling?  How useful is your model for interested parties (i.e., the companies or organizations that might want to use it)?  How would your deploy your model for interested parties?  What other data should be collected?  How often would the model need to be updated, etc.? (10 pts)"
   ]
  },
  {
   "cell_type": "markdown",
   "metadata": {},
   "source": [
    "## Exceptional Work \n",
    "---\n",
    "- You have free reign to provide additional analyses or combine analyses. (10 pts)"
   ]
  },
  {
   "cell_type": "code",
   "execution_count": null,
   "metadata": {},
   "outputs": [],
   "source": []
  }
 ],
 "metadata": {
  "kernelspec": {
   "display_name": "Python 3",
   "language": "python",
   "name": "python3"
  },
  "language_info": {
   "codemirror_mode": {
    "name": "ipython",
    "version": 3
   },
   "file_extension": ".py",
   "mimetype": "text/x-python",
   "name": "python",
   "nbconvert_exporter": "python",
   "pygments_lexer": "ipython3",
   "version": "3.6.5"
  }
 },
 "nbformat": 4,
 "nbformat_minor": 2
}
