{
 "cells": [
  {
   "cell_type": "markdown",
   "metadata": {},
   "source": [
    "## Lab 1\n",
    "\n",
    "### Data Quality\n",
    "\n",
    "The following feautre have signficant NA values that must be handled prior to further analysis.\n",
    "\n",
    "* *Age*\n",
    "* *Height*\n",
    "* *Weight*\n",
    "* *Medal*\n",
    "\n",
    "The first area of concern with the overall quality of the data is the number of NAs for the *height* and *weight* features (22.19% and 23.19% respectively).  This is exacerbated by the fact that a simple median value imputation will not provide a holistic solution since median height and weight values vary significantly per sport.  The most populous NA feature is *medal* (85.33%), however its solution is the simplest.  It can safely be assumed that this is not a mistake since there are three medals awarded per each event per Olympics, so a large percentage of NA values is this column is expcected. I replaced NA with *'No Medal'*. "
   ]
  },
  {
   "cell_type": "code",
   "execution_count": 33,
   "metadata": {},
   "outputs": [
    {
     "data": {
      "text/plain": [
       "ID             0\n",
       "Name           0\n",
       "Sex            0\n",
       "Age         9474\n",
       "Height     60171\n",
       "Weight     62875\n",
       "Team           0\n",
       "NOC            0\n",
       "Games          0\n",
       "Year           0\n",
       "Season         0\n",
       "City           0\n",
       "Sport          0\n",
       "Event          0\n",
       "Medal     231333\n",
       "dtype: int64"
      ]
     },
     "execution_count": 33,
     "metadata": {},
     "output_type": "execute_result"
    }
   ],
   "source": [
    "import pandas as pd\n",
    "import numpy as np\n",
    "import matplotlib.pyplot as plt\n",
    "df = pd.read_csv('~/olympics/data/athlete_events.csv')\n",
    "df.isnull().sum()"
   ]
  },
  {
   "cell_type": "code",
   "execution_count": 34,
   "metadata": {},
   "outputs": [
    {
     "name": "stdout",
     "output_type": "stream",
     "text": [
      "Weight NA percentage: 3.49%\n",
      "Height NA percentage: 22.19%\n",
      "Weight NA percentage: 23.19%\n",
      "Age NA percentage: 85.33%\n"
     ]
    },
    {
     "data": {
      "text/plain": [
       "ID            0\n",
       "Name          0\n",
       "Sex           0\n",
       "Age        9474\n",
       "Height    60171\n",
       "Weight    62875\n",
       "Team          0\n",
       "NOC           0\n",
       "Games         0\n",
       "Year          0\n",
       "Season        0\n",
       "City          0\n",
       "Sport         0\n",
       "Event         0\n",
       "Medal         0\n",
       "dtype: int64"
      ]
     },
     "execution_count": 34,
     "metadata": {},
     "output_type": "execute_result"
    }
   ],
   "source": [
    "#nacolumns = ['Age', 'Height', 'Weight', 'Medal']\n",
    "#print(nacolumns[0])\n",
    "\n",
    "#nanumlist = []\n",
    "\n",
    "#for i in nacolumns:\n",
    "#    nanum = (df[i].isnull().sum()/len(df[i]))*100\n",
    "#    nanumlist.append(nanum)\n",
    "    \n",
    "#print(nanumlist[0]) \n",
    "\n",
    "agena = (df['Age'].isnull().sum()/len(df['Age'])) * 100\n",
    "heightna = (df['Height'].isnull().sum()/len(df['Height'])) * 100\n",
    "weightna = (df['Weight'].isnull().sum()/len(df['Height'])) * 100\n",
    "medalna = (df['Medal'].isnull().sum()/len(df['Medal'])) * 100\n",
    "print('Weight NA percentage: %.2f' % (agena) + '%')\n",
    "print('Height NA percentage: %.2f' % (heightna) + '%')\n",
    "print('Weight NA percentage: %.2f' % (weightna) + '%')\n",
    "print('Age NA percentage: %.2f' % (medalna) + '%')\n",
    "\n",
    "df.Medal = df.Medal.fillna('No Medal')\n",
    "df.isnull().sum()"
   ]
  },
  {
   "cell_type": "markdown",
   "metadata": {},
   "source": [
    "## Exceptional Work"
   ]
  },
  {
   "cell_type": "code",
   "execution_count": null,
   "metadata": {},
   "outputs": [],
   "source": []
  }
 ],
 "metadata": {
  "kernelspec": {
   "display_name": "Python 3",
   "language": "python",
   "name": "python3"
  },
  "language_info": {
   "codemirror_mode": {
    "name": "ipython",
    "version": 3
   },
   "file_extension": ".py",
   "mimetype": "text/x-python",
   "name": "python",
   "nbconvert_exporter": "python",
   "pygments_lexer": "ipython3",
   "version": "3.7.0"
  }
 },
 "nbformat": 4,
 "nbformat_minor": 2
}
