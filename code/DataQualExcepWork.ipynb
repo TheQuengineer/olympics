{
 "cells": [
  {
   "cell_type": "markdown",
   "metadata": {},
   "source": [
    "## Lab 1\n",
    "\n",
    "### Data Quality\n",
    "\n",
    "The following feautre have signficant NA values that must be handled prior to further analysis.\n",
    "\n",
    "* *Age*\n",
    "* *Height*\n",
    "* *Weight*\n",
    "* *Medal*\n",
    "\n",
    "The first area of concern with the overall quality of the data is the number of NAs for the *Height* and *Weight* features (22.19% and 23.19% respectively).  This is exacerbated by the fact that a simple median value imputation will not provide a holistic solution since median height and weight values vary significantly per sport.  For example the mean *Height* for an Olympic Male Basketball player is going to be extremely different from the mean *Height* of a female gymnast.  For this reason, we decided to impute the the *Height*, *Weight*, and *Age* following groupby operations via *Sport* and *Sex*.  *Age* (3.49% NA) also had similar imputation issues as *Height* and *Weight*, so the same method was applied to the *Age* feature. The most populous NA feature is *Medal* (85.33%), however its solution is the simplest.  It can safely be assumed that this is not a mistake since there are three medals awarded per each event per Olympics, so a large percentage of NA values is this column is expcected. NAs in this column were replaced with the string *'No Medal'*. "
   ]
  },
  {
   "cell_type": "code",
   "execution_count": 1,
   "metadata": {},
   "outputs": [
    {
     "data": {
      "text/plain": [
       "<matplotlib.axes._subplots.AxesSubplot at 0x1a0c1b6710>"
      ]
     },
     "execution_count": 1,
     "metadata": {},
     "output_type": "execute_result"
    }
   ],
   "source": [
    "import pandas as pd\n",
    "import numpy as np\n",
    "import matplotlib.pyplot as plt\n",
    "import re\n",
    "import seaborn as sns\n",
    "df = pd.read_csv('~/olympics/data/athlete_events.csv')\n",
    "df[['Age', 'Height', 'Weight', 'Medal']].isnull().sum().plot(kind = 'barh')"
   ]
  },
  {
   "cell_type": "code",
   "execution_count": 2,
   "metadata": {},
   "outputs": [
    {
     "name": "stdout",
     "output_type": "stream",
     "text": [
      "Weight NA percentage: 3.49%\n",
      "Height NA percentage: 22.19%\n",
      "Weight NA percentage: 23.19%\n",
      "Medal NA percentage: 85.33%\n"
     ]
    }
   ],
   "source": [
    "agena = (df['Age'].isnull().sum()/len(df['Age'])) * 100\n",
    "heightna = (df['Height'].isnull().sum()/len(df['Height'])) * 100\n",
    "weightna = (df['Weight'].isnull().sum()/len(df['Height'])) * 100\n",
    "medalna = (df['Medal'].isnull().sum()/len(df['Medal'])) * 100\n",
    "print('Weight NA percentage: %.2f' % (agena) + '%')\n",
    "print('Height NA percentage: %.2f' % (heightna) + '%')\n",
    "print('Weight NA percentage: %.2f' % (weightna) + '%')\n",
    "print('Medal NA percentage: %.2f' % (medalna) + '%')"
   ]
  },
  {
   "cell_type": "code",
   "execution_count": 3,
   "metadata": {},
   "outputs": [
    {
     "name": "stdout",
     "output_type": "stream",
     "text": [
      "                     Year\n",
      "Sport                    \n",
      "Aeronautics          1936\n",
      "Alpinism             1936\n",
      "Art Competitions     1948\n",
      "Basque Pelota        1900\n",
      "Cricket              1900\n",
      "Croquet              1900\n",
      "Jeu De Paume         1908\n",
      "Military Ski Patrol  1924\n",
      "Motorboating         1908\n",
      "Polo                 1936\n",
      "Racquets             1908\n",
      "Roque                1904\n"
     ]
    }
   ],
   "source": [
    "# Fill all Medal NAs with 'No Medal'\n",
    "df.Medal = df.Medal.fillna('No Medal')\n",
    "#list of sports with no Height/Weight listed and competed since 1936\n",
    "oldsports = ['Aeronautics', 'Alpinism', 'Art Competitions','Basque Pelota', 'Cricket', 'Croquet', 'Jeu De Paume','Military Ski Patrol',\n",
    "             'Motorboating','Polo', 'Racquets', 'Roque']\n",
    "df1 = df[df['Sport'].isin(oldsports)]\n",
    "grouped = df1.groupby('Sport')\n",
    "groupedyear = grouped['Year']\n",
    "groupedyear = pd.DataFrame(groupedyear.agg('max'))\n",
    "print(groupedyear)\n",
    "df['Sport'].value_counts()\n",
    "#drop the 611 observations containing these sports\n",
    "df = df.drop(df[df.Sport.isin(oldsports)].index)\n",
    "# Impute NA values by Sex and Sport\n",
    "df.Height = df.groupby(['Sex', 'Sport'])['Height'].apply(lambda x: x.fillna(x.mean()))\n",
    "df.Weight = df.groupby(['Sex', 'Sport'])['Weight'].apply(lambda x: x.fillna(x.mean()))\n",
    "df.Age = df.groupby(['Sex', 'Sport'])['Age'].apply(lambda x: x.fillna(x.mean()))"
   ]
  },
  {
   "cell_type": "markdown",
   "metadata": {},
   "source": [
    "### Further NA discussion:\n",
    "Upon review of the remaining NAs following the groupby and imputation operations, 12 sports were found to have no data on any athletes for either *Height*, *Weight*, or *Age*.  These sports accounted for 611 observations, a mere 0.22% of the data.  Further investigation showed that these sports had not been played in the Olympics since 1948.  The decision was made to drop these observations from future analysis.  The list of sports can be found in the object: *oldsports*.  As can be seen below, there were no further NA values remaining in the dataset. "
   ]
  },
  {
   "cell_type": "code",
   "execution_count": 4,
   "metadata": {},
   "outputs": [
    {
     "data": {
      "text/plain": [
       "ID        0\n",
       "Name      0\n",
       "Sex       0\n",
       "Age       0\n",
       "Height    0\n",
       "Weight    0\n",
       "Team      0\n",
       "NOC       0\n",
       "Games     0\n",
       "Year      0\n",
       "Season    0\n",
       "City      0\n",
       "Sport     0\n",
       "Event     0\n",
       "Medal     0\n",
       "dtype: int64"
      ]
     },
     "execution_count": 4,
     "metadata": {},
     "output_type": "execute_result"
    }
   ],
   "source": [
    "df.isnull().sum()"
   ]
  },
  {
   "cell_type": "code",
   "execution_count": 5,
   "metadata": {},
   "outputs": [
    {
     "name": "stdout",
     "output_type": "stream",
     "text": [
      "['China' 'Denmark' 'Denmark/Sweden' ..., 'Solos Carex' 'Dow Jones' 'Digby']\n"
     ]
    }
   ],
   "source": [
    "unique_teams = df.Team.unique()\n",
    "# Horse names used in Team column for Equestrian Events\n",
    "print(unique_teams)\n",
    "dfregions = pd.read_csv('~/olympics/data/noc_regions.csv')\n",
    "# Merge athletes and regions dataframes to clean country names\n",
    "df = pd.merge(left = dfregions, right = df, how = 'left', on=['NOC'])"
   ]
  },
  {
   "cell_type": "markdown",
   "metadata": {},
   "source": [
    "### Team Names\n",
    "A review of the *Team* features revealed that most Team names matched the country for whom the athlete competed for, except in the Equestrian events.  The team name for Equestrian events appeared to be linked to the horses name.  To rectify this, the decision was made to merge data from the *noc_regions.csv* file with the exisiting df dataframe, and rename the *region* feature *Country*.  When this merge was completed the country names for **TUV** and **ROT** were found in the *Notes* Feature, which is later dropped creating NA values in the *Country* column.  The NAs were replaced with **Tuvula** and **Refugee Athlete**.    "
   ]
  },
  {
   "cell_type": "code",
   "execution_count": 6,
   "metadata": {},
   "outputs": [
    {
     "data": {
      "text/plain": [
       "NOC        0\n",
       "Country    0\n",
       "ID         1\n",
       "Name       1\n",
       "Sex        1\n",
       "Age        1\n",
       "Height     1\n",
       "Weight     1\n",
       "Team       1\n",
       "Games      1\n",
       "Year       1\n",
       "Season     1\n",
       "City       1\n",
       "Sport      1\n",
       "Event      1\n",
       "Medal      1\n",
       "dtype: int64"
      ]
     },
     "execution_count": 6,
     "metadata": {},
     "output_type": "execute_result"
    }
   ],
   "source": [
    "df.rename(index = str, columns = {'region' : 'Country'}, inplace = True)\n",
    "df = df.drop(columns = ['notes'])\n",
    "#Replace NA values in Country column with Tuvula and Refugee Athlete\n",
    "df['Country'] = np.where(df['NOC'] == 'TUV', 'Tuvala', df['Country'])\n",
    "df['Country'] = np.where(df['NOC'] == 'ROT', 'Refugee Athlete', df['Country'])\n",
    "df = df.drop(df[df['NOC'] == 'UNK'].index)\n",
    "df.isnull().sum()"
   ]
  },
  {
   "cell_type": "code",
   "execution_count": 7,
   "metadata": {},
   "outputs": [
    {
     "name": "stdout",
     "output_type": "stream",
     "text": [
      "208\n"
     ]
    }
   ],
   "source": [
    "unique_countries = df.Country.unique()\n",
    "print(len(unique_countries))"
   ]
  },
  {
   "cell_type": "markdown",
   "metadata": {},
   "source": [
    "### Country Names\n",
    "There are 208 unqiue country names listed in the dataset.  The site [worldometers](http://www.worldometers.info/geography/how-many-countries-are-there-in-the-world/) lists 195 unique country names.  This disparity is due to the large number of country-owned territories that are not officially recognized.  For example, people from the Island of Guam, a US territory, can compete for **Guam** in the Olympics even though Guam is not officially recognized as a country.  A handful of athletes also compete as refugees, which adds to the *Country* totals. It is safe to assume that the remaining country names are valid."
   ]
  },
  {
   "cell_type": "code",
   "execution_count": 8,
   "metadata": {},
   "outputs": [],
   "source": [
    "#Extract 'Event' Men's/Women's from the Event Column\n",
    "df['Event'] = df['Event'].str.replace(\"(\\w+\\s+\\w+\\'s)\", '')\n",
    "df.to_csv('athletes_cleaned_merged.csv')"
   ]
  },
  {
   "cell_type": "markdown",
   "metadata": {},
   "source": [
    "### Event feature cleaning\n",
    "\n",
    "The *Event* feature had repeat information that can be found in other columns (ex. **Basketball Men's Basketball**).  For brevity, this was shortened with a regular expression to remove the words preceding an apostrophe s.  Now the *Event* column just reads **Basketball** or **100 metres Butterfly**. "
   ]
  },
  {
   "cell_type": "markdown",
   "metadata": {},
   "source": [
    "### Outliers\n",
    "The three quantitative features *Age*, *Height*, and *Weight* were verified for outliers.  Initial research into past Olympians yielded the following boundaries:\n",
    "\n",
    "* Oldest Olympian: **72 Years Old**\n",
    "* Youngest Olympian: **10 Years 8 Months **\n",
    "* Tallest Olympian: **226 (cm)**\n",
    "* Shortest Olympian: **127 (cm)**\n",
    "* Heaviest Olympian: **214 (kg)**\n",
    "* Lightest Olympian: **25 (kg)**\n",
    "\n",
    "So, while these indivdiuals certainly stand out, even from other Olympic athletes, the observations are valid and will remain in the dataset for evaluation.  Judging by the distributions below, *Height* has a fairly normal distribution, while both *Weight* and *Age* are both right skewed with some outliers in the tails.  As expected Male athletes on average are taller and heavier, while the *Age* distribution is nearly identical for both genders."
   ]
  },
  {
   "cell_type": "code",
   "execution_count": 9,
   "metadata": {},
   "outputs": [
    {
     "data": {
      "text/plain": [
       "<matplotlib.axes._subplots.AxesSubplot at 0x1a0c3c5780>"
      ]
     },
     "execution_count": 9,
     "metadata": {},
     "output_type": "execute_result"
    },
    {
     "data": {
      "image/png": "[encoded data removed]",
      "text/plain": [
       "<Figure size 864x504 with 4 Axes>"
      ]
     },
     "metadata": {},
     "output_type": "display_data"
    }
   ],
   "source": [
    "oldolympians = pd.DataFrame(df[df.Age >= 72])\n",
    "youngolympians = pd.DataFrame(df[df.Age <= 11])\n",
    "tallestolympians = pd.DataFrame(df[df.Height >= 220])\n",
    "shortestolympians = pd.DataFrame(df[df.Height <= 130])\n",
    "heaviestolympians = pd.DataFrame(df[df.Weight >= 200])\n",
    "lightestolympians = pd.DataFrame(df[df.Weight <= 25])\n",
    "fig, axes = plt.subplots(nrows = 2, ncols = 2, sharex = True, sharey = False, figsize = (12, 7))\n",
    "sns.violinplot(x = 'Sex', y = 'Height', data = df, ax = axes[0,0])\n",
    "sns.violinplot(x = 'Sex', y = 'Weight', data = df, ax = axes[0,1])\n",
    "sns.violinplot(x = 'Sex', y = 'Age', data = df, ax = axes[1,0])"
   ]
  },
  {
   "cell_type": "markdown",
   "metadata": {},
   "source": [
    "## Exceptional Work\n",
    "\n",
    "For exceptional work, I wanted to leverage the visualizations available in Tableau and add them to our notebook file.  The question I attempted to answer with this visualizatio is whether or not there is a correlation between the maximum height and weight found in a country's athletes and that country's ability to win gold medals."
   ]
  },
  {
   "cell_type": "code",
   "execution_count": 27,
   "metadata": {},
   "outputs": [
    {
     "name": "stdout",
     "output_type": "stream",
     "text": [
      "       Country     Medal  count\n",
      "0  Afghanistan    Bronze      2\n",
      "1  Afghanistan  No Medal    124\n",
      "2      Albania  No Medal     70\n",
      "3      Algeria    Bronze      8\n",
      "4      Algeria      Gold      5\n",
      "                (count, Bronze)  (count, Gold)  (count, No Medal)  \\\n",
      "Country                                                             \n",
      "Afghanistan                 2.0            0.0              124.0   \n",
      "Albania                     0.0            0.0               70.0   \n",
      "Algeria                     8.0            5.0              534.0   \n",
      "American Samoa              0.0            0.0               37.0   \n",
      "Andorra                     0.0            0.0              169.0   \n",
      "\n",
      "                (count, Silver)  Weight  Height  \n",
      "Country                                          \n",
      "Afghanistan                 0.0   111.0   186.0  \n",
      "Albania                     0.0   130.0   195.0  \n",
      "Algeria                     4.0   125.0   200.0  \n",
      "American Samoa              0.0   127.0   188.0  \n",
      "Andorra                     0.0    90.0   189.0  \n"
     ]
    },
    {
     "name": "stderr",
     "output_type": "stream",
     "text": [
      "/Users/Steve/anaconda3/lib/python3.6/site-packages/pandas/core/reshape/merge.py:544: UserWarning: merging between different levels can give an unintended result (2 levels on the left, 1 on the right)\n",
      "  warnings.warn(msg, UserWarning)\n"
     ]
    }
   ],
   "source": [
    "#Create dataframe of Total Medal Counts by Country\n",
    "grouped = df.groupby(['Country', 'Medal']).size().to_frame(name = 'count').reset_index()\n",
    "print(grouped.head())\n",
    "groupedpivot = grouped.pivot_table(index = 'Country', columns = 'Medal')\n",
    "groupedpivot.fillna(0, inplace = True)\n",
    "#print(groupedpivot.head())\n",
    "grouped2 = df.groupby(['Country'])\n",
    "#Create dataframe of Max Weight by Country\n",
    "groupedweight = grouped2['Weight']\n",
    "groupedweight = pd.DataFrame(groupedweight.agg('max'))\n",
    "#print(groupedweight.head())\n",
    "#Create dataframe of Max Height by Country\n",
    "grouped1 = df.groupby(['Country'])\n",
    "groupedheight = grouped1['Height']\n",
    "groupedheight = pd.DataFrame(groupedheight.agg('max'))\n",
    "#print(groupedheight.head())\n",
    "grouped4 = pd.merge(left = groupedpivot, right = groupedweight, on = ['Country'], left_index = True)\n",
    "grouped5 = pd.merge(left = grouped4, right = groupedheight, on = ['Country'], left_index = True)\n",
    "print(grouped5.head())\n",
    "#Send to Excel for import into Tableau\n",
    "grouped5.to_excel('MedalCounts.xls')"
   ]
  },
  {
   "cell_type": "markdown",
   "metadata": {},
   "source": [
    "A dashboard containing visualzations for Top Medal winning countries, along with their max heights and weights can be found [here](https://us-east-1.online.tableau.com/t/smudatascience/views/Olympics/Dashboard1?iframeSizedToWindow=true&:embed=y&:showAppBanner=false&:display_count=no&:showVizHome=no)"
   ]
  },
  {
   "cell_type": "code",
   "execution_count": null,
   "metadata": {},
   "outputs": [],
   "source": []
  }
 ],
 "metadata": {
  "kernelspec": {
   "display_name": "Python 3",
   "language": "python",
   "name": "python3"
  },
  "language_info": {
   "codemirror_mode": {
    "name": "ipython",
    "version": 3
   },
   "file_extension": ".py",
   "mimetype": "text/x-python",
   "name": "python",
   "nbconvert_exporter": "python",
   "pygments_lexer": "ipython3",
   "version": "3.6.5"
  }
 },
 "nbformat": 4,
 "nbformat_minor": 2
}
