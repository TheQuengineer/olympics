{
 "cells": [
  {
   "cell_type": "markdown",
   "metadata": {},
   "source": [
    "# Assignment 1"
   ]
  },
  {
   "cell_type": "markdown",
   "metadata": {},
   "source": [
    "Explain"
   ]
  },
  {
   "cell_type": "markdown",
   "metadata": {},
   "source": [
    "## Olympics\n",
    "--\n",
    "Todo"
   ]
  },
  {
   "cell_type": "code",
   "execution_count": 7,
   "metadata": {
    "scrolled": true
   },
   "outputs": [],
   "source": [
    "import seaborn as sns\n",
    "import matplotlib.pyplot as plt\n",
    "import pandas as pd\n",
    "import warnings\n",
    "import numpy as np\n",
    "warnings.filterwarnings(\"ignore\")"
   ]
  },
  {
   "cell_type": "code",
   "execution_count": 8,
   "metadata": {},
   "outputs": [],
   "source": [
    "df = pd.read_csv(\"E:/gitrepos/olympics/data/athlete_events.csv\")"
   ]
  },
  {
   "cell_type": "markdown",
   "metadata": {},
   "source": [
    "## Business Understanding\n",
    "---\n",
    "Todo"
   ]
  },
  {
   "cell_type": "code",
   "execution_count": 9,
   "metadata": {},
   "outputs": [
    {
     "data": {
      "text/plain": [
       "2"
      ]
     },
     "execution_count": 9,
     "metadata": {},
     "output_type": "execute_result"
    }
   ],
   "source": [
    "1+1"
   ]
  },
  {
   "cell_type": "markdown",
   "metadata": {},
   "source": [
    "## Data Meaning Type\n",
    "---\n",
    "Todo"
   ]
  },
  {
   "cell_type": "code",
   "execution_count": 10,
   "metadata": {},
   "outputs": [
    {
     "data": {
      "text/plain": [
       "2"
      ]
     },
     "execution_count": 10,
     "metadata": {},
     "output_type": "execute_result"
    }
   ],
   "source": [
    "1+1"
   ]
  },
  {
   "cell_type": "markdown",
   "metadata": {},
   "source": [
    "## Data Quality\n",
    "---\n",
    "Todo"
   ]
  },
  {
   "cell_type": "code",
   "execution_count": 11,
   "metadata": {},
   "outputs": [
    {
     "data": {
      "text/plain": [
       "2"
      ]
     },
     "execution_count": 11,
     "metadata": {},
     "output_type": "execute_result"
    }
   ],
   "source": [
    "1+1"
   ]
  },
  {
   "cell_type": "markdown",
   "metadata": {},
   "source": [
    "## Simple Statistics\n",
    "---\n",
    "Todo"
   ]
  },
  {
   "cell_type": "code",
   "execution_count": 12,
   "metadata": {},
   "outputs": [
    {
     "data": {
      "text/plain": [
       "2"
      ]
     },
     "execution_count": 12,
     "metadata": {},
     "output_type": "execute_result"
    }
   ],
   "source": [
    "1+1"
   ]
  },
  {
   "cell_type": "markdown",
   "metadata": {},
   "source": [
    "## Visualize Attributes\n",
    "---\n",
    "Todo"
   ]
  },
  {
   "cell_type": "code",
   "execution_count": 13,
   "metadata": {},
   "outputs": [
    {
     "data": {
      "text/plain": [
       "2"
      ]
     },
     "execution_count": 13,
     "metadata": {},
     "output_type": "execute_result"
    }
   ],
   "source": [
    "1+1"
   ]
  },
  {
   "cell_type": "markdown",
   "metadata": {},
   "source": [
    "## Explore Joint Attributes\n",
    "---\n",
    "Todo"
   ]
  },
  {
   "cell_type": "markdown",
   "metadata": {},
   "source": [
    "## Explore Attributes and Class\n",
    "---\n",
    "Podium finishers -- finishing in top 3 of an event -- are going to be predicted using cross-validation against the test and train data sets. Accuracy will determine how well the prediction algorithm is performing.\n",
    "\n",
    "Before building a prediction model, we will compare the response variable \"podium finish\" to other columns in the data set and explore the relationships. We will explore age, height, and weight and their relationship to podium finishes and medal type.\n",
    "\n",
    "We first explore medal distribution across age, height, and weight with a pairplot. In this visualization, we see a uniform medal type distribution for age and small variations for height and weight. "
   ]
  },
  {
   "cell_type": "code",
   "execution_count": 21,
   "metadata": {},
   "outputs": [],
   "source": [
    "##sns.pairplot(df, vars=['Age', 'Height', 'Weight'], hue='Medal', height=2.5)"
   ]
  },
  {
   "cell_type": "markdown",
   "metadata": {},
   "source": [
    "Next, we will look at age and the podium finishes for different age groups."
   ]
  },
  {
   "cell_type": "code",
   "execution_count": 23,
   "metadata": {},
   "outputs": [
    {
     "data": {
      "text/plain": [
       "Text(0.5,1,'Age vs Podium Finishes')"
      ]
     },
     "execution_count": 23,
     "metadata": {},
     "output_type": "execute_result"
    },
    {
     "data": {
      "image/png": "[encoded data removed]",
      "text/plain": [
       "<Figure size 432x288 with 1 Axes>"
      ]
     },
     "metadata": {},
     "output_type": "display_data"
    }
   ],
   "source": [
    "age_info = df[df['Medal'].notna()].groupby(['Age'])['Medal'].count().sort_values(ascending=False)\n",
    "age_df = pd.DataFrame({'Age': age_info.index, 'Medal': age_info.values })\n",
    "sns.scatterplot(x=\"Age\", y=\"Medal\", data=age_df)\n",
    "plt.title(\"Age vs Podium Finishes\")"
   ]
  },
  {
   "cell_type": "code",
   "execution_count": 16,
   "metadata": {},
   "outputs": [
    {
     "data": {
      "text/plain": [
       "Text(0.5,1,'Podium Finishes By Age Group')"
      ]
     },
     "execution_count": 16,
     "metadata": {},
     "output_type": "execute_result"
    },
    {
     "data": {
      "image/png": "[encoded data removed]",
      "text/plain": [
       "<Figure size 432x288 with 1 Axes>"
      ]
     },
     "metadata": {},
     "output_type": "display_data"
    }
   ],
   "source": [
    "medal_count_by_age = df[(df['Medal'] != 'NA')].groupby(['Age'])['Medal'].count()\n",
    "\n",
    "amd = pd.DataFrame({'Age': np.trunc(medal_count_by_age.index),\n",
    "                                  'Medals': medal_count_by_age.values})\n",
    "\n",
    "def form_age_group(age):\n",
    "    if age >= 13 and age <= 24:\n",
    "        return 'Ages 13 to 24'\n",
    "    elif age >= 25 and age <= 35:\n",
    "        return 'Ages 25 to 35'\n",
    "    elif age >= 36 and age <= 50:\n",
    "        return 'Ages 36 to 50'\n",
    "    else:\n",
    "        return 'Ages 51 and Older'\n",
    "    \n",
    "amd['Age Group'] = amd['Age'].apply(form_age_group)\n",
    "\n",
    "sns.barplot(x=\"Medals\", y=\"Age Group\", hue=\"Age Group\", data=amd, orient='h')\n",
    "plt.title('Podium Finishes By Age Group')"
   ]
  },
  {
   "cell_type": "markdown",
   "metadata": {},
   "source": [
    "Clearly the vast majority of podium finishers are between the ages of 13 and 35, so we will dig deeper to explore the relationship."
   ]
  },
  {
   "cell_type": "code",
   "execution_count": 22,
   "metadata": {},
   "outputs": [
    {
     "data": {
      "text/plain": [
       "Text(0.5,1,'Podium Finishes By Age Group')"
      ]
     },
     "execution_count": 22,
     "metadata": {},
     "output_type": "execute_result"
    },
    {
     "data": {
      "image/png": "[encoded data removed]",
      "text/plain": [
       "<Figure size 432x288 with 1 Axes>"
      ]
     },
     "metadata": {},
     "output_type": "display_data"
    }
   ],
   "source": [
    "def form_age_group2(age):\n",
    "    if age >= 13 and age <= 17:\n",
    "        return 'Ages 13 to 17'\n",
    "    elif age >= 18 and age <= 22:\n",
    "        return 'Ages 18 to 22'\n",
    "    elif age >= 23 and age <= 27:\n",
    "        return 'Ages 23 to 27'\n",
    "    elif age >= 28 and age <= 32:\n",
    "        return 'Ages 28 to 26'\n",
    "    elif age >= 33 and age <= 35:\n",
    "        return 'Ages 33 to 35'\n",
    "    \n",
    "amd['Age Group'] = amd['Age'].apply(form_age_group2)\n",
    "\n",
    "sns.barplot(x=\"Medals\", y=\"Age Group\", hue=\"Age Group\", data=amd, orient='h')\n",
    "plt.title('Podium Finishes By Age Group')"
   ]
  },
  {
   "cell_type": "markdown",
   "metadata": {},
   "source": [
    "As expected podium finishes are normally distributed among the age groups.\n",
    "\n",
    "Next we will perform a similar analysis with weight."
   ]
  },
  {
   "cell_type": "code",
   "execution_count": 36,
   "metadata": {},
   "outputs": [
    {
     "data": {
      "text/plain": [
       "Text(0.5,1,'Weight vs Podium Finish')"
      ]
     },
     "execution_count": 36,
     "metadata": {},
     "output_type": "execute_result"
    },
    {
     "data": {
      "image/png": "[encoded data removed]",
      "text/plain": [
       "<Figure size 432x288 with 1 Axes>"
      ]
     },
     "metadata": {},
     "output_type": "display_data"
    }
   ],
   "source": [
    "weight_info = df[df['Medal'].notna()].groupby(['Weight'])['Medal'].count().sort_values(ascending=False)\n",
    "weight_df = pd.DataFrame({'Weight': weight_info.index, 'Medal': weight_info.values })\n",
    "sns.scatterplot(x=\"Weight\", y=\"Medal\", data=weight_df)\n",
    "plt.title(\"Weight vs Podium Finish\")"
   ]
  },
  {
   "cell_type": "code",
   "execution_count": null,
   "metadata": {},
   "outputs": [],
   "source": []
  },
  {
   "cell_type": "code",
   "execution_count": null,
   "metadata": {},
   "outputs": [],
   "source": [
    "weight_df.describe()"
   ]
  },
  {
   "cell_type": "markdown",
   "metadata": {},
   "source": [
    "## New Features\n",
    "---\n",
    "The data set is somewhat limited in features, so feature engineering or bringing in additional features from outside of this particular data set could be beneficial. For example, individual-specific data is limited to age, sex, weight, and height. Bringing in additional performance indicators could potentially help predict podium finishes or help with trend analysis:<br>\n",
    "-Olympic best<br>\n",
    "-Personal best<br>\n",
    "-Body Fat %<br>\n",
    "-Repeat Olympian<br>\n",
    "-Previous Podium<br><br>\n",
    "Bringing in additional country of origin indicators could potentially be helpful as well:<br>\n",
    "-GDP per capita<br>\n",
    "-Population"
   ]
  },
  {
   "cell_type": "markdown",
   "metadata": {},
   "source": [
    "## Exceptional Work\n",
    "---\n",
    "Todo"
   ]
  },
  {
   "cell_type": "code",
   "execution_count": null,
   "metadata": {},
   "outputs": [],
   "source": [
    "1+1"
   ]
  },
  {
   "cell_type": "code",
   "execution_count": null,
   "metadata": {},
   "outputs": [],
   "source": []
  }
 ],
 "metadata": {
  "kernelspec": {
   "display_name": "Python 2",
   "language": "python",
   "name": "python2"
  },
  "language_info": {
   "codemirror_mode": {
    "name": "ipython",
    "version": 2
   },
   "file_extension": ".py",
   "mimetype": "text/x-python",
   "name": "python",
   "nbconvert_exporter": "python",
   "pygments_lexer": "ipython2",
   "version": "2.7.15"
  }
 },
 "nbformat": 4,
 "nbformat_minor": 2
}
