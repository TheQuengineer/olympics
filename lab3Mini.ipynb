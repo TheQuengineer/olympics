{
 "cells": [
  {
   "cell_type": "code",
   "execution_count": 1,
   "metadata": {},
   "outputs": [
    {
     "name": "stdout",
     "output_type": "stream",
     "text": [
      "<class 'pandas.core.frame.DataFrame'>\n",
      "Int64Index: 2000 entries, 106876 to 165860\n",
      "Data columns (total 11 columns):\n",
      "Country            2000 non-null object\n",
      "Sex                2000 non-null int64\n",
      "Age                2000 non-null int64\n",
      "Height             2000 non-null int64\n",
      "Weight             2000 non-null int64\n",
      "Year               2000 non-null int64\n",
      "Season             2000 non-null int64\n",
      "BMI                2000 non-null float64\n",
      "Population_Prop    2000 non-null float64\n",
      "Medal              2000 non-null int64\n",
      "Previous_Medals    2000 non-null int64\n",
      "dtypes: float64(2), int64(8), object(1)\n",
      "memory usage: 187.5+ KB\n",
      "None\n"
     ]
    }
   ],
   "source": [
    "import numpy as np\n",
    "import pandas as pd\n",
    "#Create X and y vectors for sklearn pre-processing steps\n",
    "df = pd.read_csv('data/pop_merge.csv')\n",
    "\n",
    "#Remove years before 1992, which is the year of the split between Winter and Summer Olympics\n",
    "df = df.loc[df['Year'] >= 2010]\n",
    "df = df.sample(n = 2000, random_state = 1)\n",
    "\n",
    "\n",
    "y=df['Sport']\n",
    "X=df.drop(['Sport', 'Unnamed: 0','Event'], axis = 1)\n",
    "\n",
    "print(X.info())"
   ]
  },
  {
   "cell_type": "code",
   "execution_count": 2,
   "metadata": {},
   "outputs": [],
   "source": [
    "X = pd.get_dummies(X, columns = ['Country', 'Season','Sex'])"
   ]
  },
  {
   "cell_type": "code",
   "execution_count": 3,
   "metadata": {},
   "outputs": [
    {
     "name": "stdout",
     "output_type": "stream",
     "text": [
      "               Age       Height       Weight         Year          BMI  \\\n",
      "count  2000.000000  2000.000000  2000.000000  2000.000000  2000.000000   \n",
      "mean     26.110000   175.853000    71.470500  2013.524000    22.890782   \n",
      "std       5.487983    10.858561    15.815916     2.192676     3.288332   \n",
      "min      14.000000   137.000000    35.000000  2010.000000    15.765056   \n",
      "25%      22.000000   168.000000    60.000000  2012.000000    20.796730   \n",
      "50%      26.000000   175.000000    69.000000  2014.000000    22.432303   \n",
      "75%      29.000000   183.000000    80.000000  2016.000000    24.396810   \n",
      "max      56.000000   215.000000   170.000000  2016.000000    48.326531   \n",
      "\n",
      "       Population_Prop  Country_USA     Season_0     Season_1        Sex_0  \\\n",
      "count      2000.000000  2000.000000  2000.000000  2000.000000  2000.000000   \n",
      "mean          0.017852     0.058500     0.276000     0.724000     0.459000   \n",
      "std           0.038418     0.234745     0.447129     0.447129     0.498441   \n",
      "min           0.000001     0.000000     0.000000     0.000000     0.000000   \n",
      "25%           0.001362     0.000000     0.000000     0.000000     0.000000   \n",
      "50%           0.005489     0.000000     0.000000     1.000000     0.000000   \n",
      "75%           0.011266     0.000000     1.000000     1.000000     1.000000   \n",
      "max           0.181422     1.000000     1.000000     1.000000     1.000000   \n",
      "\n",
      "             Sex_1  \n",
      "count  2000.000000  \n",
      "mean      0.541000  \n",
      "std       0.498441  \n",
      "min       0.000000  \n",
      "25%       0.000000  \n",
      "50%       1.000000  \n",
      "75%       1.000000  \n",
      "max       1.000000  \n",
      "count          2000\n",
      "unique           49\n",
      "top       Athletics\n",
      "freq            251\n",
      "Name: Sport, dtype: object\n"
     ]
    }
   ],
   "source": [
    "X = X[['Age', 'Height', 'Weight', 'Year', 'BMI', 'Population_Prop', 'Country_USA', 'Season_0', 'Season_1', 'Sex_0', 'Sex_1']]\n",
    "print(X.describe())\n",
    "print(y.describe())"
   ]
  },
  {
   "cell_type": "code",
   "execution_count": 4,
   "metadata": {},
   "outputs": [
    {
     "name": "stdout",
     "output_type": "stream",
     "text": [
      "There are 49 unique sports in y: \n",
      "['Fencing' 'Athletics' 'Alpine Skiing' 'Cycling' 'Gymnastics' 'Volleyball'\n",
      " 'Ice Hockey' 'Judo' 'Canoeing' 'Curling' 'Swimming' 'Table Tennis'\n",
      " 'Shooting' 'Synchronized Swimming' 'Freestyle Skiing' 'Rowing' 'Hockey'\n",
      " 'Snowboarding' 'Biathlon' 'Badminton' 'Football' 'Cross Country Skiing'\n",
      " 'Rugby Sevens' 'Taekwondo' 'Speed Skating' 'Bobsleigh' 'Diving'\n",
      " 'Handball' 'Equestrianism' 'Sailing' 'Archery'\n",
      " 'Short Track Speed Skating' 'Water Polo' 'Rhythmic Gymnastics' 'Golf'\n",
      " 'Basketball' 'Figure Skating' 'Weightlifting' 'Wrestling' 'Ski Jumping'\n",
      " 'Luge' 'Boxing' 'Nordic Combined' 'Tennis' 'Beach Volleyball' 'Skeleton'\n",
      " 'Triathlon' 'Trampolining' 'Modern Pentathlon']\n"
     ]
    }
   ],
   "source": [
    "print('There are %d unique sports in y: ' % len(y.unique()))\n",
    "print(y.unique())"
   ]
  },
  {
   "cell_type": "code",
   "execution_count": 5,
   "metadata": {},
   "outputs": [
    {
     "name": "stdout",
     "output_type": "stream",
     "text": [
      "[15  2  0 ... 14 47 20]\n",
      "['Alpine Skiing' 'Archery' 'Athletics' 'Badminton' 'Basketball'\n",
      " 'Beach Volleyball' 'Biathlon' 'Bobsleigh' 'Boxing' 'Canoeing'\n",
      " 'Cross Country Skiing' 'Curling' 'Cycling' 'Diving' 'Equestrianism'\n",
      " 'Fencing' 'Figure Skating' 'Football' 'Freestyle Skiing' 'Golf'\n",
      " 'Gymnastics' 'Handball' 'Hockey' 'Ice Hockey' 'Judo' 'Luge'\n",
      " 'Modern Pentathlon' 'Nordic Combined' 'Rhythmic Gymnastics' 'Rowing'\n",
      " 'Rugby Sevens' 'Sailing' 'Shooting' 'Short Track Speed Skating'\n",
      " 'Skeleton' 'Ski Jumping' 'Snowboarding' 'Speed Skating' 'Swimming'\n",
      " 'Synchronized Swimming' 'Table Tennis' 'Taekwondo' 'Tennis'\n",
      " 'Trampolining' 'Triathlon' 'Volleyball' 'Water Polo' 'Weightlifting'\n",
      " 'Wrestling']\n"
     ]
    }
   ],
   "source": [
    "from sklearn.preprocessing import LabelEncoder\n",
    "le = LabelEncoder()\n",
    "y_enc=le.fit_transform(y)\n",
    "print(y_enc)\n",
    "print(le.classes_)"
   ]
  },
  {
   "cell_type": "code",
   "execution_count": 6,
   "metadata": {},
   "outputs": [],
   "source": [
    "from sklearn.preprocessing import StandardScaler\n",
    "#Standardize X\n",
    "sc = StandardScaler()\n",
    "sc.fit(X)\n",
    "X_std = sc.transform(X)"
   ]
  },
  {
   "cell_type": "code",
   "execution_count": 7,
   "metadata": {},
   "outputs": [],
   "source": [
    "from sklearn.model_selection import StratifiedShuffleSplit\n",
    "sss = StratifiedShuffleSplit(n_splits=10, test_size = 0.2, random_state=0)\n",
    "for train_index, test_index in sss.split(X_std, y_enc):\n",
    "    X_train, X_test = X_std[train_index], X_std[test_index]\n",
    "    y_train, y_test = y_enc[train_index], y_enc[test_index]"
   ]
  },
  {
   "cell_type": "code",
   "execution_count": 8,
   "metadata": {},
   "outputs": [],
   "source": [
    "from sklearn import metrics as mt\n",
    "def per_class_accuracy(ytrue, yhat):\n",
    "    conf = mt.confusion_matrix(ytrue, yhat)\n",
    "    norm_conf = conf.diagonal() / conf.sum(axis=1)\n",
    "    return norm_conf\n",
    "\n",
    "def plot_class_acc(ytrue, yhat, title=''):\n",
    "    acc_list = per_class_accuracy(ytrue, yhat)\n",
    "    plt.bar(le.classes_, acc_list)\n",
    "    plt.xlabel('Class value (One per Sport)')\n",
    "    plt.ylabel('Accuracy within class')\n",
    "    plt.title(title+\", Total Acc=%.1f\"%(100*mt.accuracy_score(ytrue,yhat)))\n",
    "    plt.xticks(rotation = 'vertical')\n",
    "    plt.grid()\n",
    "    plt.ylim([0,1])\n",
    "    plt.show()"
   ]
  },
  {
   "cell_type": "code",
   "execution_count": 16,
   "metadata": {},
   "outputs": [
    {
     "name": "stdout",
     "output_type": "stream",
     "text": [
      "Fitting 3 folds for each of 126 candidates, totalling 378 fits\n"
     ]
    },
    {
     "name": "stderr",
     "output_type": "stream",
     "text": [
      "/Users/Steve/anaconda3/lib/python3.6/site-packages/sklearn/model_selection/_split.py:605: Warning: The least populated class in y has only 2 members, which is too few. The minimum number of members in any class cannot be less than n_splits=3.\n",
      "  % (min_groups, self.n_splits)), Warning)\n",
      "[Parallel(n_jobs=-1)]: Done  34 tasks      | elapsed:    6.8s\n",
      "[Parallel(n_jobs=-1)]: Done 184 tasks      | elapsed:   33.0s\n",
      "[Parallel(n_jobs=-1)]: Done 378 out of 378 | elapsed:  1.1min finished\n"
     ]
    },
    {
     "name": "stdout",
     "output_type": "stream",
     "text": [
      "CPU times: user 1.43 s, sys: 130 ms, total: 1.56 s\n",
      "Wall time: 1min 6s\n"
     ]
    }
   ],
   "source": [
    "%%time\n",
    "from sklearn.ensemble import RandomForestClassifier\n",
    "from sklearn.model_selection import GridSearchCV\n",
    "# Perform Grid Search to tune Hyperparamters of a Random Forest Classifier\n",
    "# Determine best number of estimators\n",
    "n_estimators = [int(x) for x in np.linspace(start = 100, stop = 800, num = 7)]\n",
    "# Max depth\n",
    "max_depth =[10, 20, 50]\n",
    "# Number of features to consider at every split\n",
    "max_features = ['log2', 'sqrt']\n",
    "# Minimum number of samples required at each leaf node\n",
    "min_samples_leaf = [5, 10, 20]\n",
    "# Creating the grid\n",
    "param_grid = {'n_estimators' : n_estimators,\n",
    "              'max_features': max_features,\n",
    "              'max_depth' : max_depth,\n",
    "              'min_samples_leaf': min_samples_leaf\n",
    "              }\n",
    "\n",
    "rf = RandomForestClassifier(random_state = 0, class_weight = 'balanced')\n",
    "rfGS = GridSearchCV(estimator = rf, \n",
    "                    n_jobs = -1,\n",
    "                    verbose = 1,\n",
    "                    param_grid = param_grid, \n",
    "                    cv = 3,\n",
    "                    scoring = 'accuracy')\n",
    "\n",
    "\n",
    "#Perform hyperparameter search to find the best combination of parameters for our data\n",
    "rfGS.fit(X_train, y_train)"
   ]
  },
  {
   "cell_type": "code",
   "execution_count": 17,
   "metadata": {},
   "outputs": [
    {
     "data": {
      "text/plain": [
       "RandomForestClassifier(bootstrap=True, class_weight='balanced',\n",
       "            criterion='gini', max_depth=20, max_features='log2',\n",
       "            max_leaf_nodes=None, min_impurity_decrease=0.0,\n",
       "            min_impurity_split=None, min_samples_leaf=5,\n",
       "            min_samples_split=2, min_weight_fraction_leaf=0.0,\n",
       "            n_estimators=450, n_jobs=1, oob_score=False, random_state=0,\n",
       "            verbose=0, warm_start=False)"
      ]
     },
     "execution_count": 17,
     "metadata": {},
     "output_type": "execute_result"
    }
   ],
   "source": [
    "rfGS.best_estimator_"
   ]
  },
  {
   "cell_type": "code",
   "execution_count": 18,
   "metadata": {},
   "outputs": [
    {
     "name": "stdout",
     "output_type": "stream",
     "text": [
      "CPU times: user 3 µs, sys: 1e+03 ns, total: 4 µs\n",
      "Wall time: 8.34 µs\n"
     ]
    }
   ],
   "source": [
    "%%time\n",
    "# Perform Stratifed 10-fold cross-validation on the Random Forest Model\n",
    "rf_clf = rfGS.best_estimator_"
   ]
  },
  {
   "cell_type": "code",
   "execution_count": 19,
   "metadata": {},
   "outputs": [
    {
     "name": "stdout",
     "output_type": "stream",
     "text": [
      "The Random Forest accuracy is: 0.23\n"
     ]
    },
    {
     "data": {
      "image/png": "[encoded data removed]",
      "text/plain": [
       "<Figure size 864x504 with 1 Axes>"
      ]
     },
     "metadata": {},
     "output_type": "display_data"
    },
    {
     "name": "stdout",
     "output_type": "stream",
     "text": [
      "[0.375      0.         0.06       0.         0.5        0.5\n",
      " 0.33333333 1.         0.33333333 0.         0.16666667 0.\n",
      " 0.         0.33333333 0.75       0.16666667 0.         0.\n",
      " 0.66666667 0.         0.55555556 0.14285714 0.         0.\n",
      " 0.         0.66666667 0.         0.5        1.         0.18181818\n",
      " 0.25       0.         0.21428571 0.2        0.         0.75\n",
      " 0.28571429 0.42857143 0.33333333 0.         0.         0.\n",
      " 0.16666667 0.         0.33333333 0.57142857 0.14285714 0.28571429\n",
      " 0.        ]\n",
      "CPU times: user 484 ms, sys: 19.9 ms, total: 504 ms\n",
      "Wall time: 505 ms\n"
     ]
    }
   ],
   "source": [
    "%%time\n",
    "\n",
    "from sklearn.metrics import accuracy_score \n",
    "import matplotlib.pyplot as plt\n",
    "plt.rcParams['figure.figsize'] = (12, 7)\n",
    "from sklearn.metrics import classification_report\n",
    "\n",
    "yhat = rf_clf.predict(X_test)\n",
    "print('The Random Forest accuracy is: %.2f' % accuracy_score(y_test, yhat))\n",
    "\n",
    "plot_class_acc(y_test, yhat, title='Random Forest')\n",
    "\n",
    "print(per_class_accuracy(y_test, yhat))"
   ]
  },
  {
   "cell_type": "code",
   "execution_count": 20,
   "metadata": {},
   "outputs": [],
   "source": [
    "rf_clf_model = rf_clf.fit(X_train, y_train)"
   ]
  },
  {
   "cell_type": "code",
   "execution_count": 21,
   "metadata": {},
   "outputs": [
    {
     "data": {
      "text/plain": [
       "['rf_finalized.joblib']"
      ]
     },
     "execution_count": 21,
     "metadata": {},
     "output_type": "execute_result"
    }
   ],
   "source": [
    "from sklearn.externals import joblib \n",
    "joblib.dump(rf_clf_model, 'rf_finalized.joblib')"
   ]
  },
  {
   "cell_type": "code",
   "execution_count": 22,
   "metadata": {},
   "outputs": [],
   "source": [
    "rf_clf_model = joblib.load('rf_finalized.joblib')"
   ]
  },
  {
   "cell_type": "code",
   "execution_count": null,
   "metadata": {},
   "outputs": [],
   "source": []
  }
 ],
 "metadata": {
  "kernelspec": {
   "display_name": "Python 3",
   "language": "python",
   "name": "python3"
  },
  "language_info": {
   "codemirror_mode": {
    "name": "ipython",
    "version": 3
   },
   "file_extension": ".py",
   "mimetype": "text/x-python",
   "name": "python",
   "nbconvert_exporter": "python",
   "pygments_lexer": "ipython3",
   "version": "3.6.5"
  }
 },
 "nbformat": 4,
 "nbformat_minor": 2
}
